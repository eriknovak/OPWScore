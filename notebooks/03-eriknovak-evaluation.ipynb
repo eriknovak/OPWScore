{
 "cells": [
  {
   "cell_type": "code",
   "execution_count": 33,
   "metadata": {},
   "outputs": [
    {
     "name": "stdout",
     "output_type": "stream",
     "text": [
      "The autoreload extension is already loaded. To reload it, use:\n",
      "  %reload_ext autoreload\n"
     ]
    }
   ],
   "source": [
    "# enable automatic reloading of the notebook\n",
    "%load_ext autoreload\n",
    "%autoreload 2"
   ]
  },
  {
   "cell_type": "markdown",
   "metadata": {},
   "source": [
    "# Evaluation"
   ]
  },
  {
   "cell_type": "code",
   "execution_count": 34,
   "metadata": {},
   "outputs": [],
   "source": [
    "import json\n",
    "from src.utils.metrics import get_pearson_r, get_spearman_r, get_kendall_tau"
   ]
  },
  {
   "cell_type": "markdown",
   "metadata": {},
   "source": [
    "## STS Benchmark"
   ]
  },
  {
   "cell_type": "markdown",
   "metadata": {},
   "source": [
    "### Metric comparison\n",
    "\n",
    "| Metric | Pearson R | Spearman R | Kendall Tau |\n",
    "| ------ | --------- | ---------- | ------------| \n",
    "| MEAN   | 0.788     | 0.781      | 0.602       |\n",
    "| MAX    | 0.786     | 0.776      | 0.597       |\n",
    "| EMD    | 0.749     | 0.738      | 0.557       |\n",
    "| SEQ    | 0.696     | 0.685      | 0.509       |\n",
    "| CLS    | 0.664     | 0.693      | 0.518       |\n",
    "\n",
    "\n",
    "# Parameter comparison\n",
    "\n",
    "| Reg 1 | Reg 2 | Pearson R | Spearman R | Kendall Tau |\n",
    "| ----- | ----- | --------- | ---------- | ------------| \n",
    "| 0.1   | 0.1   | 0.696     | 0.685      | 0.509       |\n",
    "| 1     | 0.1   | 0.707     | 0.696      | 0.519       |\n",
    "| 1.1   | 0.1   | 0.706     | 0.695      | 0.519       |\n",
    "| 10    | 0.1   | -         | -          | -           |\n"
   ]
  },
  {
   "cell_type": "code",
   "execution_count": 74,
   "metadata": {},
   "outputs": [],
   "source": [
    "sts_results = \"../results/sts/scores.json\"\n",
    "with open(sts_results, \"r\", encoding=\"utf8\") as f:\n",
    "    results = json.load(f)"
   ]
  },
  {
   "cell_type": "code",
   "execution_count": 75,
   "metadata": {},
   "outputs": [],
   "source": [
    "x = [-k[\"system_score\"] for k in results]\n",
    "y = [k[\"human_score\"] for k in results]"
   ]
  },
  {
   "cell_type": "code",
   "execution_count": 76,
   "metadata": {},
   "outputs": [
    {
     "data": {
      "text/plain": [
       "(0.7067123910602223, 3.605407559544885e-209)"
      ]
     },
     "execution_count": 76,
     "metadata": {},
     "output_type": "execute_result"
    }
   ],
   "source": [
    "get_pearson_r(x, y)"
   ]
  },
  {
   "cell_type": "code",
   "execution_count": 77,
   "metadata": {},
   "outputs": [
    {
     "data": {
      "text/plain": [
       "SpearmanrResult(correlation=0.6954184759403137, pvalue=7.531196032940135e-200)"
      ]
     },
     "execution_count": 77,
     "metadata": {},
     "output_type": "execute_result"
    }
   ],
   "source": [
    "get_spearman_r(x, y)"
   ]
  },
  {
   "cell_type": "code",
   "execution_count": 78,
   "metadata": {},
   "outputs": [
    {
     "data": {
      "text/plain": [
       "KendalltauResult(correlation=0.5186698727988244, pvalue=3.6445733428029304e-176)"
      ]
     },
     "execution_count": 78,
     "metadata": {},
     "output_type": "execute_result"
    }
   ],
   "source": [
    "get_kendall_tau(x, y)"
   ]
  },
  {
   "cell_type": "markdown",
   "metadata": {},
   "source": [
    "## WMT18 Benchmark"
   ]
  },
  {
   "cell_type": "code",
   "execution_count": 8,
   "metadata": {},
   "outputs": [],
   "source": [
    "sts_results = \"../results/wmt18/scores.cs-en.json\"\n",
    "with open(sts_results, \"r\", encoding=\"utf8\") as f:\n",
    "    results = json.load(f)"
   ]
  },
  {
   "cell_type": "code",
   "execution_count": 9,
   "metadata": {},
   "outputs": [],
   "source": [
    "x = [k[\"system_score\"] for k in results]\n",
    "y = [k[\"human_score\"] for k in results]"
   ]
  },
  {
   "cell_type": "code",
   "execution_count": 10,
   "metadata": {},
   "outputs": [
    {
     "data": {
      "text/plain": [
       "(-0.23013920481429798, 2.1468810046480817e-104)"
      ]
     },
     "execution_count": 10,
     "metadata": {},
     "output_type": "execute_result"
    }
   ],
   "source": [
    "get_pearson_r(x, y)"
   ]
  },
  {
   "cell_type": "code",
   "execution_count": 11,
   "metadata": {},
   "outputs": [
    {
     "data": {
      "text/plain": [
       "SpearmanrResult(correlation=-0.25196709007077767, pvalue=1.9915913193194048e-125)"
      ]
     },
     "execution_count": 11,
     "metadata": {},
     "output_type": "execute_result"
    }
   ],
   "source": [
    "get_spearman_r(x, y)"
   ]
  },
  {
   "cell_type": "code",
   "execution_count": 12,
   "metadata": {},
   "outputs": [
    {
     "data": {
      "text/plain": [
       "KendalltauResult(correlation=-0.17291941748006723, pvalue=4.7052573636609185e-126)"
      ]
     },
     "execution_count": 12,
     "metadata": {},
     "output_type": "execute_result"
    }
   ],
   "source": [
    "get_kendall_tau(x, y)"
   ]
  },
  {
   "cell_type": "code",
   "execution_count": null,
   "metadata": {},
   "outputs": [],
   "source": []
  }
 ],
 "metadata": {
  "kernelspec": {
   "display_name": "Python 3.8.13 ('seq-lm-emd')",
   "language": "python",
   "name": "python3"
  },
  "language_info": {
   "codemirror_mode": {
    "name": "ipython",
    "version": 3
   },
   "file_extension": ".py",
   "mimetype": "text/x-python",
   "name": "python",
   "nbconvert_exporter": "python",
   "pygments_lexer": "ipython3",
   "version": "3.8.13"
  },
  "orig_nbformat": 4,
  "vscode": {
   "interpreter": {
    "hash": "006d38af847dd7867da3438f390d9a22fb50044c28d4e0569a79cb9d6728a4c6"
   }
  }
 },
 "nbformat": 4,
 "nbformat_minor": 2
}
