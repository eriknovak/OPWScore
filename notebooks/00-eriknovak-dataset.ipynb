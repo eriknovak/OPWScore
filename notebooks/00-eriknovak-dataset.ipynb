{
 "cells": [
  {
   "cell_type": "code",
   "execution_count": 1,
   "metadata": {},
   "outputs": [],
   "source": [
    "# enable automatic reloading of the notebook\n",
    "%load_ext autoreload\n",
    "%autoreload 2"
   ]
  },
  {
   "attachments": {},
   "cell_type": "markdown",
   "metadata": {},
   "source": [
    "# WMT18 Metrics Tasks Datasets\n"
   ]
  },
  {
   "cell_type": "code",
   "execution_count": 47,
   "metadata": {},
   "outputs": [],
   "source": [
    "from src.data.Datasets import WMT18"
   ]
  },
  {
   "cell_type": "code",
   "execution_count": 48,
   "metadata": {},
   "outputs": [],
   "source": [
    "dataloader = WMT18(\"ru-en\", batch_size=1).setup(stage=\"test\").test_dataloader()"
   ]
  },
  {
   "cell_type": "code",
   "execution_count": 49,
   "metadata": {},
   "outputs": [
    {
     "data": {
      "text/plain": [
       "['cs-en',\n",
       " 'de-en',\n",
       " 'et-en',\n",
       " 'fi-en',\n",
       " 'ru-en',\n",
       " 'tr-en',\n",
       " 'zh-en',\n",
       " 'en-cs',\n",
       " 'en-de',\n",
       " 'en-et',\n",
       " 'en-fi',\n",
       " 'en-ru',\n",
       " 'en-tr',\n",
       " 'en-zh']"
      ]
     },
     "execution_count": 49,
     "metadata": {},
     "output_type": "execute_result"
    }
   ],
   "source": [
    "WMT18.supported_languages"
   ]
  },
  {
   "cell_type": "code",
   "execution_count": 50,
   "metadata": {},
   "outputs": [
    {
     "name": "stdout",
     "output_type": "stream",
     "text": [
      "{'source': ['Исследование, проводившееся чартерной компанией Stratos Jet Charters, Inc. и охватившее более 1000 человек, также показало, что молодые пассажиры более склонны нарушать правила.'], 'reference': ['The survey of more than 1000 people - which was conducted by a jet-chartering service Stratos Jet Charters Inc. - also found that younger travellers were more likely to flout the rules.'], 'system': ['A study conducted by Stratos jet charters, Inc. and covering more than 1,000 people, also showed that young passengers are more likely to violate the rules.'], 'score': tensor([0.2442], dtype=torch.float64), 'raw_score': tensor([64.], dtype=torch.float64)}\n",
      "{'source': ['\"После этого я думаю, что линчевания до сих пор происходят\", - добавляет она, - \"только теперь это называется, что стреляет полиция\".'], 'reference': ['\"What this really does to me is make me think that lynchings are still going on,\" she added, \"they\\'re just called police shootings now.\"'], 'system': ['\"After that, I think the lynching is still happening,\" she adds, \"It\\'s just now called the police.\"'], 'score': tensor([0.7190], dtype=torch.float64), 'raw_score': tensor([80.], dtype=torch.float64)}\n",
      "{'source': ['Кот-тяжеловес по кличке Мистер Красавчик нашел дом благодаря соцсетям'], 'reference': ['A heavyweight cat that goes by the nickname of Mr. Handsome has found a home thanks to social media'], 'system': [''], 'score': tensor([-1.6548], dtype=torch.float64), 'raw_score': tensor([0.], dtype=torch.float64)}\n",
      "{'source': ['Спортивные и детские площадки из-за машин становятся некомфортными.'], 'reference': ['The sports areas and playgrounds are becoming uncomfortable due to the cars.'], 'system': [\"Sports and children's playgrounds due to cars become uncomfortable.\"], 'score': tensor([0.0762], dtype=torch.float64), 'raw_score': tensor([74.5000], dtype=torch.float64)}\n"
     ]
    }
   ],
   "source": [
    "for idx, data in enumerate(dataloader):\n",
    "    if idx >= 9189 and idx <= 9192:\n",
    "        print(data)\n"
   ]
  },
  {
   "cell_type": "code",
   "execution_count": 51,
   "metadata": {},
   "outputs": [
    {
     "name": "stderr",
     "output_type": "stream",
     "text": [
      "Some weights of the model checkpoint at roberta-large-mnli were not used when initializing RobertaModel: ['classifier.dense.bias', 'classifier.dense.weight', 'classifier.out_proj.weight', 'classifier.out_proj.bias']\n",
      "- This IS expected if you are initializing RobertaModel from the checkpoint of a model trained on another task or with another architecture (e.g. initializing a BertForSequenceClassification model from a BertForPreTraining model).\n",
      "- This IS NOT expected if you are initializing RobertaModel from the checkpoint of a model that you expect to be exactly identical (initializing a BertForSequenceClassification model from a BertForSequenceClassification model).\n"
     ]
    }
   ],
   "source": [
    "from src.models.model import Seq_LM_EMD\n",
    "\n",
    "model = Seq_LM_EMD(\n",
    "        distance=\"emd\",\n",
    "        weight_dist=\"uniform\",\n",
    "        temporal_type=None,\n",
    "        lang=\"en\",\n",
    "        reg1=0.015,\n",
    "        reg2=None,\n",
    "        nit=100,\n",
    "    )"
   ]
  },
  {
   "cell_type": "code",
   "execution_count": 53,
   "metadata": {},
   "outputs": [
    {
     "name": "stdout",
     "output_type": "stream",
     "text": [
      "9188 tensor([0.0661], grad_fn=<SumBackward1>)\n",
      "9189 tensor([0.1275], grad_fn=<SumBackward1>)\n",
      "9190 tensor([0.1871], grad_fn=<SumBackward1>)\n",
      "9191 tensor([0.3453], grad_fn=<SumBackward1>)\n",
      "9192 tensor([0.1096], grad_fn=<SumBackward1>)\n",
      "9193 tensor([0.1581], grad_fn=<SumBackward1>)\n",
      "9194 tensor([0.1279], grad_fn=<SumBackward1>)\n"
     ]
    }
   ],
   "source": [
    "for idx, data in enumerate(dataloader):\n",
    "    if idx >= 9188 and idx <= 9194:\n",
    "        print(idx, model(data[\"system\"], data[\"reference\"])[0])\n"
   ]
  },
  {
   "cell_type": "code",
   "execution_count": null,
   "metadata": {},
   "outputs": [],
   "source": []
  }
 ],
 "metadata": {
  "kernelspec": {
   "display_name": "Python 3.8.13 ('seq-lm-emd')",
   "language": "python",
   "name": "python3"
  },
  "language_info": {
   "codemirror_mode": {
    "name": "ipython",
    "version": 3
   },
   "file_extension": ".py",
   "mimetype": "text/x-python",
   "name": "python",
   "nbconvert_exporter": "python",
   "pygments_lexer": "ipython3",
   "version": "3.8.13"
  },
  "orig_nbformat": 4,
  "vscode": {
   "interpreter": {
    "hash": "006d38af847dd7867da3438f390d9a22fb50044c28d4e0569a79cb9d6728a4c6"
   }
  }
 },
 "nbformat": 4,
 "nbformat_minor": 2
}
