{
 "cells": [
  {
   "cell_type": "code",
   "execution_count": 1,
   "metadata": {},
   "outputs": [],
   "source": [
    "# enable automatic reloading of the notebook\n",
    "%load_ext autoreload\n",
    "%autoreload 2"
   ]
  },
  {
   "cell_type": "markdown",
   "metadata": {},
   "source": [
    "# WMT18 Metrics Tasks Datasets"
   ]
  },
  {
   "cell_type": "code",
   "execution_count": 2,
   "metadata": {},
   "outputs": [],
   "source": [
    "from src.data.WMT18 import WMT18"
   ]
  },
  {
   "cell_type": "code",
   "execution_count": 3,
   "metadata": {},
   "outputs": [],
   "source": [
    "datasets = WMT18(\"de-en\", only_hybrid=True)"
   ]
  },
  {
   "cell_type": "code",
   "execution_count": 4,
   "metadata": {},
   "outputs": [],
   "source": [
    "datasets.setup()"
   ]
  },
  {
   "cell_type": "code",
   "execution_count": 6,
   "metadata": {},
   "outputs": [],
   "source": [
    "dataloader = datasets.test_dataloader()"
   ]
  },
  {
   "cell_type": "code",
   "execution_count": 8,
   "metadata": {},
   "outputs": [
    {
     "name": "stdout",
     "output_type": "stream",
     "text": [
      "{'model_id': ['hybrid.6251', 'hybrid.6251', 'hybrid.6251', 'hybrid.6251', 'hybrid.6251', 'hybrid.6251', 'hybrid.6251', 'hybrid.6251', 'hybrid.6251', 'hybrid.6251', 'hybrid.6251', 'hybrid.6251', 'hybrid.6251', 'hybrid.6251', 'hybrid.6251', 'hybrid.6251', 'hybrid.6251', 'hybrid.6251', 'hybrid.6251', 'hybrid.6251', 'hybrid.6251', 'hybrid.6251', 'hybrid.6251', 'hybrid.6251', 'hybrid.6251', 'hybrid.6251', 'hybrid.6251', 'hybrid.6251', 'hybrid.6251', 'hybrid.6251', 'hybrid.6251', 'hybrid.6251'], 'source': ['München 1856: Vier Karten, die Ihren Blick auf die Stadt verändern', 'Eine Irren-Anstalt, wo sich heute Jugendliche begegnen sollen.', 'Eine Gruftkapelle, wo nun für den S-Bahn-Tunnel gegraben wird.', 'Kleingärtner bewirtschaften den einstigen Grund von Bauern.', 'Die älteste offizielle Karte Münchens fördert spannende Geschichten zu Tage.', 'Es nervt, wenn Landkarten nicht aktuell sind.', 'Das kennt jeder, der sich schon mal aufregen musste, weil das Auto-Navi statt einer Umgehungsstraße eine grüne Wiese anzeigte.', 'Die historischen Landkarten des digitalen Bayern-Atlases, ein Angebot des Geoportals Bayern der Staatsregierung, sind alles andere als aktuell - doch gerade deshalb sehr aufschlussreich.', 'Besonders wenn man sie mit aktuellen Online-Karten vergleicht.', 'Dann wird deutlich, wie sich Städte und Gemeinden im Verbreitungsgebiet des Münchner Merkur seit dem 19. Jahrhundert verändert haben.', 'Der digitale Bayern-Atlas ist ein Flickenteppich, den man als solchen nicht gleich erkennt.', 'In die große Übersichtskarte wurden für Städte und Gemeinden detailliertere Karten, sogenannte Urpositionsblätter, eingearbeitet.', 'Diese entstanden nach Angaben der Bayerischen Vermessungsverwaltung zwischen 1810 und 1864 und entspringen der ersten Vermessung Bayerns.', 'Ihr Auftraggeber: Napoleon.', 'Der französische Heeresführer besetzte Bayern seit dem Frühjahr 1800 während des Zweiten Koalitionskrieges mit Österreich.', 'Napoleon wünschte sich einen Überblick über das besetzte Land und gab eine topographische Aufnahme Bayerns in Auftrag - natürlich zu militärischen Zwecken.', 'Auch wenn die französischen Truppen mit dem Frieden von Lunéville vom 9. Februar 1801 schließlich abzogen: Es waren die heutigen Nachbarn, die die Idee einer flächendeckenden Bayern-Karte kreierten.', 'Kurfürst Max IV. Joseph trieb das Projekt weiter voran, gründete das \"Topographische Bureau\" - und damit die Bayerische Vermessungsverwaltung.', 'Das Urpositionsblatt für München stammt aus dem Jahr 1856 und ist wie sämtliche andere auf der Internetseite der Bayerischen Landesbibliothek zu finden.', 'Der Vergleich Früher/Heute ist am Beispiel der Landeshauptstadt am eindrücklichsten.', 'Die Stadt hat sich in alle Richtungen ausgedehnt und ist zusammengewachsen.', 'Ein Beispiel dafür ist Untersendling, das in der Karte von 1856 noch relativ isoliert auftaucht.', 'Sendling wurde 21 Jahre nach Erstellung der Karte, also 1877, als Münchner Stadtteil eingemeindet.', 'Heute liegt Untersendling mitten in der Stadt.', 'Die Häuser Untersendlings konzentrieren sich um 1856 entlang der heutigen Plinganserstraße, die erst 1878 nach Georg Sebastian Plinganser benannt wurde, einem Anführer des Aufstands der bayerischen Bauern gegen Österreich 1705.', 'Wo heute der Westpark ist, sieht man nichts als Felder - auf den ersten Blick: Beim Hineinzoomen erscheint eine kleinteiligere Karte mit dutzenden Linien und Zahlen: handschriftlich nummerierte Flurstücke aus der sogenannten \"Uraufnahme\", aus der die Grundsteuer abgeleitet wurde.', 'Kleine Parzellen belegen dort heute keine Landwirte mehr - sondern Kleingärtner der Anlage \"Land in Sonne\".', 'Eine große Grünfläche zeichnet sich nördlich von Untersendling ab.', 'Die Theresienwiese, seit 1810 Schauplatz des Oktoberfests, war im 19. Jahrhundert tatsächlich noch eine Wiese - und keine Betonwüste.', 'Auf der anderen Seite der Isar gibt die historische Karte einen Einblick in die Geschichte der psychiatrischen Medizin.', 'Im Urpositionsblatt liest man im Gebiet des heutigen Bezirks Au-Haidhausen nicht nur den Straßennamen \"am Gasteig\" oder von der Anhöhe \"Auf der Lüften\" - sondern auch in großen Buchstaben \"Irren Anstalt\".', 'Ja, hier an der Auerfeldstraße sperrte man einst Menschen mit Wahnvorstellungen ein.'], 'reference': ['Munich 1856: Four maps that will change your view of the city', 'A mental asylum, where today young people are said to meet.', 'A crypt chapel, where they are now digging tunnels for the S-Bahn.', 'Allotment holders cultivate the soil of former farmers.', 'The oldest official map of Munich brings captivating stories to light.', 'It is annoying when geographical maps are not up-to-date.', \"Anyone who has ever got worked up because the car's sat-nav is showing a green field instead of a bypass knows that.\", \"The historical maps of the digital BayernAtlas, an offering from the State Government's Geoportal Bayern, are anything but up-to-date – and yet it is precisely for this reason that they are so informative.\", 'Especially when one compares them with current online maps.', \"Then it becomes clear how the towns and municipalities in the distribution area of Munich's Merkur newspaper have changed since the 19th century.\", \"The digital BayernAtlas is a patchwork quilt that one doesn't quite recognise for what it is at first.\", 'Within the large overview map, were worked in detailed maps for towns and municipalities, so-called original-lay-of-the-land sheets.', 'According to information from the Bavarian Surveying and Mapping Authority, these came into being between 1810 and 1864 and arise out of the first survey of Bavaria.', 'Their commissioner: Napoleon.', 'The French army commander had occupied Bavaria since the spring in 1800, during the War of the Second Coalition with Austria.', 'Napoleon wanted to gain an overview of the occupied land and commissioned a topographical survey – naturally for military purposes.', 'Even if the French troops finally retreated with the Treaty of Lunéville from 9th February 1801: it was the current neighbours who had the idea to create a comprehensive map of Bavaria.', 'Elector Max IV. Joseph propelled the project further forward, founding the \"Topographical Bureau\" – and with that, the Bavarian Surveying and Mapping Authority.', 'The original lay-of-the-land sheet for Munich originates from 1856 and, like all the others, can be found on the website of the Bavarian State Library.', 'The comparison of past/present is most impressive taking the example of the state capital.', 'The city has stretched out in all directions and coalesced.', 'An example of this is Untersendling, which still appears relatively isolated on the map from 1856.', 'Sendling was incorporated as an urban district of Munich 21 years after the map was created.', 'Today, Untersendling lies in the middle of the city.', \"Around 1856, Untersendling's houses are concentrated along what is today Plinganserstraße, which was first named in 1878 after Georg Sebastian Plinganser, a ringleader of the Bavarian farmers' revolt against Austria in 1705.\", 'Where the West Park is today, one sees nothing but field – at first sight: upon zooming in, a more detailed small-scale map with dozens of lines and numbers appears: hand-numbered plots from the so-called \"original record\", from which the property tax was derived.', 'Today, it is no longer farmers who occupy small parcels there – rather, it is allotment holders of the \"Land in Sonne\" facility.', 'A large green area is apparent to the north of Untersendling.', 'Theresienwiese, since 1810 the scene of Oktoberfest, was in the 19th century still actually a \"Wiese\" – a meadow – and not a concrete wasteland.', 'On the other side of the Isar, the historical map gives an insight into the history of psychiatric medicine.', 'In the original lay-of-the-land sheet, in the area where today the borough of Au-Haidhausen is, one can make out not only the street name \"am Gasteig\" or the elevation \"Auf der Lüften\" – but can actually read in large letters \"mental asylum\".', 'Yes, here on Auerfeldstraße, they once imprisoned people with delusions.'], 'system': ['Munich 1856: Four maps that change your view of the city', 'An insane institution where young people are supposed to meet today.', 'A Gruftkapelle, where the S-Bahn tunnel is now being dug.', 'Small gardeners manage the former land of farmers.', 'The oldest official map of Munich promotes exciting stories.', 'It is annoying when maps are not up to date.', 'Everyone knows this, because the car navigation system showed a green meadow instead of a bypass.', \"The historical maps of the digital Bavaria Atlas, an offer by the State Government's Geoportal Bavaria, are far from up-to-date - but this is why they are very informative.\", 'Especially if you compare them with current online maps.', 'Then it becomes clear how cities and municipalities in the distribution area of Munich Mercury have changed since the 19th century.', 'The digital Bayern atlas is a patchwork that is not immediately recognizable as such.', 'More detailed maps, so-called primordial maps, have been incorporated into the large overview map for cities and municipalities.', \"According to the Bayerische Vermessungsverwaltung (Bayerische Vermessungsverwaltung), these were created between 1810 and 1864 and were the result of Bavaria's first survey.\", 'Her client: Napoleon.', 'The French army leader occupied Bavaria with Austria since the spring of 1800 during the Second Coalition War.', 'Napoleon wanted an overview of the occupied country and commissioned a topographic recording of Bavaria - for military purposes, of course.', 'Even though the French troops finally departed with the peace of Lunéville on February 9, 1801, it was the present neighbours who created the idea of a nationwide map of Bavaria.', 'Elector Max IV. Joseph continued to drive the project forward, founding the \"topographic Bureau\" - and with it the Bayerische Vermessungsverwaltung.', 'The original manuscript for Munich dates back to 1856 and, like all others, can be found on the website of the Bayerische Landesbibliothek.', 'The comparison between past and present is most impressive, using the example of the state capital.', 'The city expanded in all directions and grew together.', 'An example of this is the undersendling, which appears relatively isolated in the map of 1856.', \"Sendling was congregated as Munich's district 21 years after the map was created in 1877.\", 'Today, Untersendling is in the middle of the city.', 'The houses of Untersendling are concentrated around 1856 along what is now Plinganserstrasse, which was only named in 1878 after Georg Sebastian Plinganser, a leader of the uprising of the Bavarian peasants against Austria in 1705.', 'Where the West Park is today, you can see nothing but fields - at first glance: when zooming in, a smaller card appears with dozens of lines and numbers: hand-numbered hallways from the so-called “primal reception” from which the property tax was derived.', 'Small parcels are no longer occupied by farmers - they are small gardeners of the “Land in Sun” plant.', 'A large green area is located north of Untersendling.', 'The Theresienwiese (Theresienwiese), which has been the scene of the Oktoberfest since 1810, was built in the 19th century. In the 19th century, there is actually another meadow - and no concrete desert.', 'On the other side of the Isar, the historical map gives an insight into the history of psychiatric medicine.', 'In the first position leaflet, in the area of the present-day district of Au-Haidhausen, you can read not only the street name “am Gasteig” or the hill “Auf der Lüften” - but also in large letters “Irren Anstalt”.', 'Yes, people with delusions were once locked up here on Auerfeldstrasse.']}\n"
     ]
    }
   ],
   "source": [
    "for data in dataloader:\n",
    "    print(data)\n",
    "    break"
   ]
  },
  {
   "cell_type": "code",
   "execution_count": null,
   "metadata": {},
   "outputs": [],
   "source": []
  }
 ],
 "metadata": {
  "kernelspec": {
   "display_name": "Python 3.8.13 ('seq-lm-emd')",
   "language": "python",
   "name": "python3"
  },
  "language_info": {
   "codemirror_mode": {
    "name": "ipython",
    "version": 3
   },
   "file_extension": ".py",
   "mimetype": "text/x-python",
   "name": "python",
   "nbconvert_exporter": "python",
   "pygments_lexer": "ipython3",
   "version": "3.8.13"
  },
  "orig_nbformat": 4,
  "vscode": {
   "interpreter": {
    "hash": "006d38af847dd7867da3438f390d9a22fb50044c28d4e0569a79cb9d6728a4c6"
   }
  }
 },
 "nbformat": 4,
 "nbformat_minor": 2
}
